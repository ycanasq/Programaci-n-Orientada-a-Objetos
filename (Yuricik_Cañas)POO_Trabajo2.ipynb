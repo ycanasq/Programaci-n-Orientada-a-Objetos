{
  "nbformat": 4,
  "nbformat_minor": 0,
  "metadata": {
    "colab": {
      "provenance": [],
      "toc_visible": true,
      "authorship_tag": "ABX9TyOzFT74hhJQD240qlsHxvs4",
      "include_colab_link": true
    },
    "kernelspec": {
      "name": "python3",
      "display_name": "Python 3"
    },
    "language_info": {
      "name": "python"
    }
  },
  "cells": [
    {
      "cell_type": "markdown",
      "metadata": {
        "id": "view-in-github",
        "colab_type": "text"
      },
      "source": [
        "<a href=\"https://colab.research.google.com/github/ycanasq/Programacion-Orientada-a-Objetos/blob/Trabajo-2/(Yuricik_Ca%C3%B1as)POO_Trabajo2.ipynb\" target=\"_parent\"><img src=\"https://colab.research.google.com/assets/colab-badge.svg\" alt=\"Open In Colab\"/></a>"
      ]
    },
    {
      "cell_type": "markdown",
      "source": [
        "#30 SEPT - Trabajo 2 (20%)\n",
        "##Yuricik Cañas Quintero\n",
        "##Programación Orientada a Objetos\n",
        "##Prof. Arboleda Mazo Walter Hugo\n",
        "\n",
        "Enlace al repositorio en Github:\n",
        "\n"
      ],
      "metadata": {
        "id": "rOEPyxSX-poa"
      }
    },
    {
      "cell_type": "markdown",
      "source": [
        "#Ejercicio Resuelto 2.1"
      ],
      "metadata": {
        "id": "VFKv5sR1_F3_"
      }
    },
    {
      "cell_type": "code",
      "execution_count": null,
      "metadata": {
        "colab": {
          "base_uri": "https://localhost:8080/"
        },
        "id": "hyMEqCgi6DUv",
        "outputId": "8e8bae61-e8ca-4c76-f704-1ecae9bf9b15"
      },
      "outputs": [
        {
          "output_type": "stream",
          "name": "stdout",
          "text": [
            "Nombre = Pedro\n",
            "Apellidos = Pérez\n",
            "Número de documento de identidad = 1053121010\n",
            "Año de nacimiento = 1998\n",
            "\n",
            "Nombre = Luis\n",
            "Apellidos = León\n",
            "Número de documento de identidad = 1053223344\n",
            "Año de nacimiento = 2001\n",
            "\n"
          ]
        }
      ],
      "source": [
        "class Persona:\n",
        "    def __init__(self, nombre, apellidos, numero_documento_identidad, ano_nacimiento):\n",
        "        self.nombre = nombre\n",
        "        self.apellidos = apellidos\n",
        "        self.numero_documento_identidad = numero_documento_identidad\n",
        "        self.ano_nacimiento = ano_nacimiento\n",
        "\n",
        "    def imprimir(self):\n",
        "        print(\"Nombre =\", self.nombre)\n",
        "        print(\"Apellidos =\", self.apellidos)\n",
        "        print(\"Número de documento de identidad =\", self.numero_documento_identidad)\n",
        "        print(\"Año de nacimiento =\", self.ano_nacimiento)\n",
        "        print()\n",
        "\n",
        "\n",
        "class Trabajo2_ER21:\n",
        "    if __name__ == \"__main__\":\n",
        "\n",
        "        persona1 = Persona(\"Pedro\", \"Pérez\", \"1053121010\", 1998)\n",
        "        persona2 = Persona(\"Luis\", \"León\", \"1053223344\", 2001)\n",
        "\n",
        "        persona1.imprimir()\n",
        "        persona2.imprimir()\n",
        "\n",
        "\n",
        "\n"
      ]
    },
    {
      "cell_type": "markdown",
      "source": [
        "#Ejercicio Resuelto 2.2"
      ],
      "metadata": {
        "id": "gwZ_Qzh9_Jib"
      }
    },
    {
      "cell_type": "code",
      "source": [
        "from enum import Enum\n",
        "\n",
        "class TipoPlaneta(Enum):\n",
        "    TERRESTRE = \"Terrestre\"\n",
        "    GASEOSO = \"Gaseoso\"\n",
        "    ENANO = \"Enano\"\n",
        "\n",
        "\n",
        "class Planeta:\n",
        "    def __init__(self, nombre, cantidad_satelites, masa, volumen, diametro, distancia_sol, tipo, es_observable):\n",
        "        self.nombre = nombre\n",
        "        self.cantidad_satelites = cantidad_satelites\n",
        "        self.masa = masa\n",
        "        self.volumen = volumen\n",
        "        self.diametro = diametro\n",
        "        self.distancia_sol = distancia_sol\n",
        "        self.tipo = tipo\n",
        "        self.es_observable = es_observable\n",
        "\n",
        "    def imprimir(self):\n",
        "        print(\"Nombre del planeta =\", self.nombre)\n",
        "        print(\"Cantidad de satélites =\", self.cantidad_satelites)\n",
        "        print(\"Masa del planeta =\", self.masa)\n",
        "        print(\"Volumen del planeta =\", self.volumen)\n",
        "        print(\"Diámetro del planeta =\", self.diametro)\n",
        "        print(\"Distancia al sol =\", self.distancia_sol)\n",
        "        print(\"Tipo de planeta =\", self.tipo.value)\n",
        "        print(\"Es observable =\", self.es_observable)\n",
        "\n",
        "    def calcular_densidad(self):\n",
        "        return self.masa / self.volumen\n",
        "\n",
        "    def es_planeta_exterior(self):\n",
        "        limite = 149597870 * 3.4\n",
        "        return self.distancia_sol > limite\n",
        "\n",
        "\n",
        "class Trabajo2_ER22():\n",
        "    if __name__ == \"__main__\":\n",
        "        planeta1 = Planeta(\"Tierra\", 1, 5.9736E24, 1.08321E12, 12742, 150000000, TipoPlaneta.TERRESTRE, True)\n",
        "        planeta1.imprimir()\n",
        "        print(\"Densidad del planeta =\", planeta1.calcular_densidad())\n",
        "        print(\"Es planeta exterior =\", planeta1.es_planeta_exterior())\n",
        "        print()\n",
        "\n",
        "        planeta2 = Planeta(\"Júpiter\", 79, 1.899E27, 1.4313E15, 139820, 750000000, TipoPlaneta.GASEOSO, True)\n",
        "        planeta2.imprimir()\n",
        "        print(\"Densidad del planeta =\", planeta2.calcular_densidad())\n",
        "        print(\"Es planeta exterior =\", planeta2.es_planeta_exterior())\n"
      ],
      "metadata": {
        "colab": {
          "base_uri": "https://localhost:8080/"
        },
        "id": "Z4KuTVqP6xEz",
        "outputId": "c0b9f3c3-5d12-4906-839b-d2cececd0eae"
      },
      "execution_count": null,
      "outputs": [
        {
          "output_type": "stream",
          "name": "stdout",
          "text": [
            "Nombre del planeta = Tierra\n",
            "Cantidad de satélites = 1\n",
            "Masa del planeta = 5.9736e+24\n",
            "Volumen del planeta = 1083210000000.0\n",
            "Diámetro del planeta = 12742\n",
            "Distancia al sol = 150000000\n",
            "Tipo de planeta = Terrestre\n",
            "Es observable = True\n",
            "Densidad del planeta = 5514720137369.484\n",
            "Es planeta exterior = False\n",
            "\n",
            "Nombre del planeta = Júpiter\n",
            "Cantidad de satélites = 79\n",
            "Masa del planeta = 1.899e+27\n",
            "Volumen del planeta = 1431300000000000.0\n",
            "Diámetro del planeta = 139820\n",
            "Distancia al sol = 750000000\n",
            "Tipo de planeta = Gaseoso\n",
            "Es observable = True\n",
            "Densidad del planeta = 1326765877174.5964\n",
            "Es planeta exterior = True\n"
          ]
        }
      ]
    },
    {
      "cell_type": "markdown",
      "source": [
        "#Ejercicio Resuelto 2.3"
      ],
      "metadata": {
        "id": "n1I5XHo-_N5c"
      }
    },
    {
      "cell_type": "code",
      "source": [
        "from enum import Enum\n",
        "\n",
        "class TipoColor(Enum):\n",
        "    BLANCO = \"Blanco\"\n",
        "    NEGRO = \"Negro\"\n",
        "    ROJO = \"Rojo\"\n",
        "    NARANJA = \"Naranja\"\n",
        "    AMARILLO = \"Amarillo\"\n",
        "    VERDE = \"Verde\"\n",
        "    AZUL = \"Azul\"\n",
        "    VIOLETA = \"Violeta\"\n",
        "\n",
        "class TipoA(Enum):\n",
        "    CIUDAD = \"Ciudad\"\n",
        "    SUBCOMPACTO = \"Subcompacto\"\n",
        "    COMPACTO = \"Compacto\"\n",
        "    FAMILIAR = \"Familiar\"\n",
        "    EJECUTIVO = \"Ejecutivo\"\n",
        "    SUV = \"SUV\"\n",
        "\n",
        "class TipoCom(Enum):\n",
        "    GASOLINA = \"Gasolina\"\n",
        "    BIOETANOL = \"Bioetanol\"\n",
        "    DIESEL = \"Diésel\"\n",
        "    BIODIESEL = \"Biodiésel\"\n",
        "    GAS_NATURAL = \"Gas Natural\"\n",
        "\n",
        "\n",
        "class Automovil:\n",
        "    def __init__(self, marca, modelo, motor, tipo_combustible, tipo_automovil,\n",
        "                 numero_puertas, cantidad_asientos, velocidad_maxima, color):\n",
        "        self.marca = marca\n",
        "        self.modelo = modelo\n",
        "        self.motor = motor\n",
        "        self.tipo_combustible = tipo_combustible\n",
        "        self.tipo_automovil = tipo_automovil\n",
        "        self.numero_puertas = numero_puertas\n",
        "        self.cantidad_asientos = cantidad_asientos\n",
        "        self.velocidad_maxima = velocidad_maxima\n",
        "        self.color = color\n",
        "        self.velocidad_actual = 0\n",
        "\n",
        "    def imprimir(self):\n",
        "        print(\"Marca =\", self.marca)\n",
        "        print(\"Modelo =\", self.modelo)\n",
        "        print(\"Motor =\", self.motor)\n",
        "        print(\"Tipo de combustible =\", self.tipo_combustible.value)\n",
        "        print(\"Tipo de automóvil =\", self.tipo_automovil.value)\n",
        "        print(\"Número de puertas =\", self.numero_puertas)\n",
        "        print(\"Cantidad de asientos =\", self.cantidad_asientos)\n",
        "        print(\"Velocidad máxima =\", self.velocidad_maxima)\n",
        "        print(\"Color =\", self.color.value)\n",
        "\n",
        "    def acelerar(self, incremento):\n",
        "        if self.velocidad_actual + incremento < self.velocidad_maxima:\n",
        "            self.velocidad_actual += incremento\n",
        "        else:\n",
        "            print(\"No se puede superar la velocidad máxima.\")\n",
        "\n",
        "    def desacelerar(self, decremento):\n",
        "        if self.velocidad_actual - decremento > 0:\n",
        "            self.velocidad_actual -= decremento\n",
        "        else:\n",
        "            print(\"No se puede reducir a velocidad negativa.\")\n",
        "\n",
        "    def frenar(self):\n",
        "        self.velocidad_actual = 0\n",
        "\n",
        "    def calcular_tiempo_llegada(self, distancia):\n",
        "        if self.velocidad_actual > 0:\n",
        "            return distancia / self.velocidad_actual\n",
        "        else:\n",
        "            print(\"El automóvil está detenido.\")\n",
        "            return None\n",
        "\n",
        "\n",
        "class Trabajo2_ER23:\n",
        "    if __name__ == \"__main__\":\n",
        "        auto1 = Automovil(\"Ford\", 2018, 3, TipoCom.DIESEL, TipoA.EJECUTIVO, 5, 6, 250, TipoColor.NEGRO)\n",
        "        auto1.imprimir()\n",
        "\n",
        "        auto1.velocidad_actual = 100\n",
        "        print(\"Velocidad actual =\", auto1.velocidad_actual)\n",
        "\n",
        "        auto1.acelerar(20)\n",
        "        print(\"Velocidad actual =\", auto1.velocidad_actual)\n",
        "\n",
        "        auto1.desacelerar(50)\n",
        "        print(\"Velocidad actual =\", auto1.velocidad_actual)\n",
        "\n",
        "        auto1.frenar()\n",
        "        print(\"Velocidad actual =\", auto1.velocidad_actual)\n",
        "\n",
        "        auto1.desacelerar(20)\n"
      ],
      "metadata": {
        "colab": {
          "base_uri": "https://localhost:8080/"
        },
        "id": "rYnePxYWX4Ad",
        "outputId": "04893c4e-a80c-47cc-b45e-7ca2d66391a1"
      },
      "execution_count": 1,
      "outputs": [
        {
          "output_type": "stream",
          "name": "stdout",
          "text": [
            "Marca = Ford\n",
            "Modelo = 2018\n",
            "Motor = 3\n",
            "Tipo de combustible = Diésel\n",
            "Tipo de automóvil = Ejecutivo\n",
            "Número de puertas = 5\n",
            "Cantidad de asientos = 6\n",
            "Velocidad máxima = 250\n",
            "Color = Negro\n",
            "Velocidad actual = 100\n",
            "Velocidad actual = 120\n",
            "Velocidad actual = 70\n",
            "Velocidad actual = 0\n",
            "No se puede reducir a velocidad negativa.\n"
          ]
        }
      ]
    },
    {
      "cell_type": "markdown",
      "source": [
        "#Ejercicio Resuelto 2.4"
      ],
      "metadata": {
        "id": "D_PYTFZesguO"
      }
    },
    {
      "cell_type": "code",
      "source": [
        "import math\n",
        "\n",
        "class Circulo:\n",
        "    def __init__(self, radio):\n",
        "        self.radio = radio\n",
        "\n",
        "    def calcular_area(self):\n",
        "        return math.pi * (self.radio ** 2)\n",
        "\n",
        "    def calcular_perimetro(self):\n",
        "        return 2 * math.pi * self.radio\n",
        "\n",
        "\n",
        "class Rectangulo:\n",
        "    def __init__(self, base, altura):\n",
        "        self.base = base\n",
        "        self.altura = altura\n",
        "\n",
        "    def calcular_area(self):\n",
        "        return self.base * self.altura\n",
        "\n",
        "    def calcular_perimetro(self):\n",
        "        return (2 * self.base) + (2 * self.altura)\n",
        "\n",
        "\n",
        "class Cuadrado:\n",
        "    def __init__(self, lado):\n",
        "        self.lado = lado\n",
        "\n",
        "    def calcular_area(self):\n",
        "        return self.lado * self.lado\n",
        "\n",
        "    def calcular_perimetro(self):\n",
        "        return 4 * self.lado\n",
        "\n",
        "\n",
        "class TrianguloRectangulo:\n",
        "    def __init__(self, base, altura):\n",
        "        self.base = base\n",
        "        self.altura = altura\n",
        "\n",
        "    def calcular_area(self):\n",
        "        return (self.base * self.altura) / 2\n",
        "\n",
        "    def calcular_perimetro(self):\n",
        "        return self.base + self.altura + self.calcular_hipotenusa()\n",
        "\n",
        "    def calcular_hipotenusa(self):\n",
        "        return math.sqrt(self.base ** 2 + self.altura ** 2)\n",
        "\n",
        "    def determinar_tipo_triangulo(self):\n",
        "        hipotenusa = self.calcular_hipotenusa()\n",
        "        if self.base == self.altura == hipotenusa:\n",
        "            print(\"Es un triángulo equilátero\")\n",
        "        elif self.base != self.altura and self.base != hipotenusa and self.altura != hipotenusa:\n",
        "            print(\"Es un triángulo escaleno\")\n",
        "        else:\n",
        "            print(\"Es un triángulo isósceles\")\n",
        "\n",
        "\n",
        "class Trabajo2_ER24:\n",
        "    if __name__ == \"__main__\":\n",
        "        figura1 = Circulo(2)\n",
        "        figura2 = Rectangulo(1, 2)\n",
        "        figura3 = Cuadrado(3)\n",
        "        figura4 = TrianguloRectangulo(3, 5)\n",
        "\n",
        "        print(\"El área del círculo es =\", figura1.calcular_area())\n",
        "        print(\"El perímetro del círculo es =\", figura1.calcular_perimetro())\n",
        "        print()\n",
        "\n",
        "        print(\"El área del rectángulo es =\", figura2.calcular_area())\n",
        "        print(\"El perímetro del rectángulo es =\", figura2.calcular_perimetro())\n",
        "        print()\n",
        "\n",
        "        print(\"El área del cuadrado es =\", figura3.calcular_area())\n",
        "        print(\"El perímetro del cuadrado es =\", figura3.calcular_perimetro())\n",
        "        print()\n",
        "\n",
        "        print(\"El área del triángulo es =\", figura4.calcular_area())\n",
        "        print(\"El perímetro del triángulo es =\", figura4.calcular_perimetro())\n",
        "        figura4.determinar_tipo_triangulo()\n"
      ],
      "metadata": {
        "colab": {
          "base_uri": "https://localhost:8080/"
        },
        "id": "TFF2ev_ksSRr",
        "outputId": "8e299332-2e74-41c5-ec7f-9d1910f5dba8"
      },
      "execution_count": 2,
      "outputs": [
        {
          "output_type": "stream",
          "name": "stdout",
          "text": [
            "El área del círculo es = 12.566370614359172\n",
            "El perímetro del círculo es = 12.566370614359172\n",
            "\n",
            "El área del rectángulo es = 2\n",
            "El perímetro del rectángulo es = 6\n",
            "\n",
            "El área del cuadrado es = 9\n",
            "El perímetro del cuadrado es = 12\n",
            "\n",
            "El área del triángulo es = 7.5\n",
            "El perímetro del triángulo es = 13.8309518948453\n",
            "Es un triángulo escaleno\n"
          ]
        }
      ]
    },
    {
      "cell_type": "markdown",
      "source": [
        "#Ejercicio Resuelto 2.5"
      ],
      "metadata": {
        "id": "h1P1YEnwyIMS"
      }
    },
    {
      "cell_type": "code",
      "source": [
        "from enum import Enum\n",
        "\n",
        "class TipoCuenta(Enum):\n",
        "    AHORROS = \"Ahorros\"\n",
        "    CORRIENTE = \"Corriente\"\n",
        "\n",
        "\n",
        "class CuentaBancaria:\n",
        "    def __init__(self, nombres_titular, apellidos_titular, numero_cuenta, tipo_cuenta):\n",
        "        self.nombres_titular = nombres_titular\n",
        "        self.apellidos_titular = apellidos_titular\n",
        "        self.numero_cuenta = numero_cuenta\n",
        "        self.tipo_cuenta = tipo_cuenta\n",
        "        self.saldo = 0.0\n",
        "\n",
        "    def imprimir(self):\n",
        "        print(\"Nombres del titular =\", self.nombres_titular)\n",
        "        print(\"Apellidos del titular =\", self.apellidos_titular)\n",
        "        print(\"Número de cuenta =\", self.numero_cuenta)\n",
        "        print(\"Tipo de cuenta =\", self.tipo_cuenta.value)\n",
        "        print(\"Saldo =\", self.saldo)\n",
        "\n",
        "    def consultar_saldo(self):\n",
        "        print(\"El saldo actual es =\", self.saldo)\n",
        "\n",
        "    def consignar(self, valor):\n",
        "        if valor > 0:\n",
        "            self.saldo += valor\n",
        "            print(f\"Se ha consignado ${valor} en la cuenta. El nuevo saldo es ${self.saldo}\")\n",
        "            return True\n",
        "        else:\n",
        "            print(\"El valor a consignar debe ser mayor que cero.\")\n",
        "            return False\n",
        "\n",
        "    def retirar(self, valor):\n",
        "        if valor > 0 and valor <= self.saldo:\n",
        "            self.saldo -= valor\n",
        "            print(f\"Se ha retirado ${valor} en la cuenta. El nuevo saldo es ${self.saldo}\")\n",
        "            return True\n",
        "        else:\n",
        "            print(\"El valor a retirar debe ser menor o igual al saldo actual.\")\n",
        "            return False\n",
        "\n",
        "\n",
        "class Trabajo2_ER25:\n",
        "    if __name__ == \"__main__\":\n",
        "        cuenta = CuentaBancaria(\"Pedro\", \"Pérez\", 123456789, TipoCuenta.AHORROS)\n",
        "        cuenta.imprimir()\n",
        "        cuenta.consignar(200000)\n",
        "        cuenta.consignar(300000)\n",
        "        cuenta.retirar(400000)\n"
      ],
      "metadata": {
        "colab": {
          "base_uri": "https://localhost:8080/"
        },
        "id": "hldjAkrnM708",
        "outputId": "8bae178c-abff-401b-e7b6-97deb11e421d"
      },
      "execution_count": 1,
      "outputs": [
        {
          "output_type": "stream",
          "name": "stdout",
          "text": [
            "Nombres del titular = Pedro\n",
            "Apellidos del titular = Pérez\n",
            "Número de cuenta = 123456789\n",
            "Tipo de cuenta = Ahorros\n",
            "Saldo = 0.0\n",
            "Se ha consignado $200000 en la cuenta. El nuevo saldo es $200000.0\n",
            "Se ha consignado $300000 en la cuenta. El nuevo saldo es $500000.0\n",
            "Se ha retirado $400000 en la cuenta. El nuevo saldo es $100000.0\n"
          ]
        }
      ]
    }
  ]
}