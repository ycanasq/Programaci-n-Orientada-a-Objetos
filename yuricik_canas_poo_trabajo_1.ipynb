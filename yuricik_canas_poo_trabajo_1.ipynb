{
  "nbformat": 4,
  "nbformat_minor": 0,
  "metadata": {
    "colab": {
      "provenance": [],
      "toc_visible": true,
      "authorship_tag": "ABX9TyMzzeQ39E5ZQHxlV9z99xVw",
      "include_colab_link": true
    },
    "kernelspec": {
      "name": "python3",
      "display_name": "Python 3"
    },
    "language_info": {
      "name": "python"
    }
  },
  "cells": [
    {
      "cell_type": "markdown",
      "metadata": {
        "id": "view-in-github",
        "colab_type": "text"
      },
      "source": [
        "<a href=\"https://colab.research.google.com/github/ycanasq/Programaci-n-Orientada-a-Objetos/blob/main/yuricik_canas_poo_trabajo_1.ipynb\" target=\"_parent\"><img src=\"https://colab.research.google.com/assets/colab-badge.svg\" alt=\"Open In Colab\"/></a>"
      ]
    },
    {
      "cell_type": "markdown",
      "source": [
        "# 9 SEPT - Trabajo 1 (10%)\n",
        "###Yuricik Cañas Quintero\n",
        "###Programación Orientada a Objetos\n",
        "###Prof. Arboleda Mazo Walter Hugo\n",
        "\n"
      ],
      "metadata": {
        "id": "y1bRBxKW2Efz"
      }
    },
    {
      "cell_type": "markdown",
      "source": [
        "Enlace al repositorio en Github:\n",
        "\n",
        "https://github.com/ycanasq/my-first-blog/blob/0492589cd745149347401b0421e6dc91f4e72cd4/(Yuricik_Ca%C3%B1as)_POO_Trabajo_1.ipynb"
      ],
      "metadata": {
        "id": "BaH72pqAbCXY"
      }
    },
    {
      "cell_type": "markdown",
      "source": [
        "##Ejercicio Resulto 1 (Punto 4)"
      ],
      "metadata": {
        "id": "kzo5V7DSBUAF"
      }
    },
    {
      "cell_type": "code",
      "source": [
        "class Calculos:\n",
        "  @staticmethod\n",
        "  def calcular_edalber(edjuan):\n",
        "    return 2 * (edjuan / 3)\n",
        "  @staticmethod\n",
        "  def calcular_edana(edjuan):\n",
        "    return 4 * (edjuan / 3)\n",
        "  @staticmethod\n",
        "  def calcular_edmama(edjuan, edalber, edana):\n",
        "    return edjuan + edalber + edana\n",
        "\n",
        "\n",
        "def main():\n",
        "  edjuan = int(input(\"Ingrese la edad de Juan: \"))\n",
        "\n",
        "  edalber = Calculos.calcular_edalber(edjuan)\n",
        "  edana = Calculos.calcular_edana(edjuan)\n",
        "  edmama = Calculos.calcular_edmama(edjuan, edalber, edana)\n",
        "\n",
        "  print(\"LAS EDADES SON:\")\n",
        "  print(\"Alberto:\", int(edalber))\n",
        "  print(\"Juan:\", edjuan)\n",
        "  print(\"Ana:\", int(edana))\n",
        "  print(\"Mamá:\", int(edmama))\n",
        "\n",
        "\n",
        "if __name__ == \"__main__\":\n",
        "  main()"
      ],
      "metadata": {
        "colab": {
          "base_uri": "https://localhost:8080/"
        },
        "id": "YkQVQxC73F2P",
        "outputId": "40145581-50a8-48ee-fc77-38afe925782b"
      },
      "execution_count": null,
      "outputs": [
        {
          "output_type": "stream",
          "name": "stdout",
          "text": [
            "Ingrese la edad de Juan: 9\n",
            "LAS EDADES SON:\n",
            "Alberto: 6\n",
            "Juan: 9\n",
            "Ana: 12\n",
            "Mamá: 27\n"
          ]
        }
      ]
    },
    {
      "cell_type": "markdown",
      "source": [
        "##Ejercicio Resulto 2 (Punto 5)"
      ],
      "metadata": {
        "id": "udl2DRlvBZFW"
      }
    },
    {
      "cell_type": "code",
      "source": [
        "class Calculos:\n",
        "  @staticmethod\n",
        "  def calcular_suma(suma, x):\n",
        "    resultado_suma = suma + x\n",
        "    return resultado_suma\n",
        "\n",
        "  @staticmethod\n",
        "  def calcular_x(x, y):\n",
        "    resultado_x = x + (y ** 2)\n",
        "    return resultado_x\n",
        "\n",
        "\n",
        "def main():\n",
        "  suma = float(input(\"Ingrese un número para suma: \"))\n",
        "  x = float(input(\"Ingrese un número para x: \"))\n",
        "  y = float(input(\"Ingrese un número para y: \"))\n",
        "\n",
        "  suma = Calculos.calcular_suma(suma, x)\n",
        "  x = Calculos.calcular_x(x, y)\n",
        "\n",
        "  suma = suma + (x / y)\n",
        "\n",
        "  print(\"El valor de la suma es:\", suma)\n",
        "\n",
        "\n",
        "if __name__ == \"__main__\":\n",
        "  main()\n"
      ],
      "metadata": {
        "colab": {
          "base_uri": "https://localhost:8080/"
        },
        "id": "ch5lDJBP43FB",
        "outputId": "947cbec9-0603-4856-ec4f-f87f84634c56"
      },
      "execution_count": null,
      "outputs": [
        {
          "output_type": "stream",
          "name": "stdout",
          "text": [
            "Ingrese un número para suma: 0\n",
            "Ingrese un número para x: 20\n",
            "Ingrese un número para y: 40\n",
            "El valor de la suma es: 60.5\n"
          ]
        }
      ]
    },
    {
      "cell_type": "markdown",
      "source": [
        "##Ejercicio Resuelto 3 (Punto 12)\n"
      ],
      "metadata": {
        "id": "hMga2sr75Vg9"
      }
    },
    {
      "cell_type": "code",
      "source": [
        "class Calculos:\n",
        "  @staticmethod\n",
        "  def calcular_salario_bruto(horas_laboradas, valor_hora):\n",
        "    return horas_laboradas * valor_hora\n",
        "\n",
        "  @staticmethod\n",
        "  def calcular_porcentaje_retencion(retencion):\n",
        "    return retencion / 100\n",
        "\n",
        "  @staticmethod\n",
        "  def calcular_valor_retencion_fuente(porcentaje_retencion, salario_bruto):\n",
        "    return porcentaje_retencion * salario_bruto\n",
        "\n",
        "  @staticmethod\n",
        "  def calcular_salario_neto(salario_bruto, valor_retencion_fuente):\n",
        "    return salario_bruto - valor_retencion_fuente\n",
        "\n",
        "\n",
        "def main():\n",
        "  horas_trabajadas = float(input(\"Ingresa un número para las horas trabajadas: \"))\n",
        "  valor_hora = float(input(\"Ingresa un número para el valor hora: \"))\n",
        "  retencion = float(input(\"Ingresa un número para la retencion: \"))\n",
        "\n",
        "  salario_bruto = Calculos.calcular_salario_bruto(horas_trabajadas, valor_hora)\n",
        "  porcentaje_retencion = Calculos.calcular_porcentaje_retencion(retencion)\n",
        "  valor_retencion_fuente = Calculos.calcular_valor_retencion_fuente(porcentaje_retencion, salario_bruto)\n",
        "  salario_neto = Calculos.calcular_salario_neto(salario_bruto, valor_retencion_fuente)\n",
        "\n",
        "  print(\"Salario Bruto:\", salario_bruto)\n",
        "  print(\"Valor retención en la fuente:\", valor_retencion_fuente)\n",
        "  print(\"Salario Neto:\", salario_neto)\n",
        "\n",
        "\n",
        "if __name__ == \"__main__\":\n",
        "  main()"
      ],
      "metadata": {
        "colab": {
          "base_uri": "https://localhost:8080/"
        },
        "id": "x-Goyntr5am4",
        "outputId": "69af956c-294a-48a9-fd8f-35c51bf59675"
      },
      "execution_count": null,
      "outputs": [
        {
          "output_type": "stream",
          "name": "stdout",
          "text": [
            "Ingresa un número para las horas trabajadas: 15\n",
            "Ingresa un número para el valor hora: 1000\n",
            "Ingresa un número para la retencion: 5\n",
            "Salario Bruto: 15000.0\n",
            "Valor retención en la fuente: 750.0\n",
            "Salario Neto: 14250.0\n"
          ]
        }
      ]
    },
    {
      "cell_type": "markdown",
      "source": [
        "##Ejercicio Resuelto 4 (Punto 14)\n"
      ],
      "metadata": {
        "id": "3UqvcWDX5cwv"
      }
    },
    {
      "cell_type": "code",
      "source": [
        "class Calculos:\n",
        "  @staticmethod\n",
        "  def calcular_cuadrado(numero):\n",
        "    return numero ** 2\n",
        "\n",
        "  @staticmethod\n",
        "  def calcular_cubo(numero):\n",
        "    return numero ** 3\n",
        "\n",
        "def main():\n",
        "  numero = float(input(\"Ingresa un número: \"))\n",
        "\n",
        "  cuadrado = Calculos.calcular_cuadrado(numero)\n",
        "  cubo = Calculos.calcular_cubo(numero)\n",
        "\n",
        "  print(\"Número:\", numero)\n",
        "  print(\"Cuadrado:\", cuadrado)\n",
        "  print(\"Cubo:\", cubo)\n",
        "\n",
        "if __name__ == \"__main__\":\n",
        "  main()\n"
      ],
      "metadata": {
        "colab": {
          "base_uri": "https://localhost:8080/"
        },
        "id": "txIXffBm5hWE",
        "outputId": "c0ee536c-a11d-43ac-a84a-2deaf6d7f349"
      },
      "execution_count": null,
      "outputs": [
        {
          "output_type": "stream",
          "name": "stdout",
          "text": [
            "Ingresa un número: 2\n",
            "Número: 2.0\n",
            "Cuadrado: 4.0\n",
            "Cubo: 8.0\n"
          ]
        }
      ]
    },
    {
      "cell_type": "markdown",
      "source": [
        "##Ejercicio Resuelto 5 (Punto 17)"
      ],
      "metadata": {
        "id": "JUNmKVjR5h_O"
      }
    },
    {
      "cell_type": "code",
      "source": [
        "import math\n",
        "\n",
        "class Calculos:\n",
        "  @staticmethod\n",
        "  def calcular_longitud_circunferencia(radio):\n",
        "    return 2 * math.pi * radio\n",
        "\n",
        "  @staticmethod\n",
        "  def calcular_area_circulo(radio):\n",
        "    return math.pi * (radio ** 2)\n",
        "\n",
        "\n",
        "def main():\n",
        "  radio = float(input(\"Ingresa un número para el radio: \"))\n",
        "\n",
        "  longitud_circunferencia = Calculos.calcular_longitud_circunferencia(radio)\n",
        "  area_circulo = Calculos.calcular_area_circulo(radio)\n",
        "\n",
        "  print(\"Longitud de la circunferencia:\", longitud_circunferencia)\n",
        "  print(\"Área del círculo:\", area_circulo)\n",
        "\n",
        "\n",
        "\n",
        "if __name__ == \"__main__\":\n",
        "  main()\n"
      ],
      "metadata": {
        "colab": {
          "base_uri": "https://localhost:8080/"
        },
        "id": "jPQdJUUX5ocz",
        "outputId": "23f82438-f07e-4abb-afed-7251cc839402"
      },
      "execution_count": null,
      "outputs": [
        {
          "output_type": "stream",
          "name": "stdout",
          "text": [
            "Ingresa un número para el radio: 3\n",
            "Longitud de la circunferencia: 18.84955592153876\n",
            "Área del círculo: 28.274333882308138\n"
          ]
        }
      ]
    }
  ]
}